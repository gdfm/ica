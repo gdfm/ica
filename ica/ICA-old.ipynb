{
 "cells": [
  {
   "cell_type": "code",
   "execution_count": 1,
   "metadata": {},
   "outputs": [],
   "source": [
    "%matplotlib inline\n",
    "%config InlineBackend.figure_format = 'retina'\n",
    "\n",
    "import numpy as np\n",
    "import scipy as sp\n",
    "import pandas as pd\n",
    "import networkx as nx\n",
    "import matplotlib.pyplot as plt\n",
    "\n",
    "import sklearn\n",
    "from sklearn.linear_model import LogisticRegression\n",
    "from sklearn.metrics import accuracy_score\n",
    "\n",
    "import os"
   ]
  },
  {
   "cell_type": "code",
   "execution_count": 2,
   "metadata": {},
   "outputs": [],
   "source": [
    "class Classifier(object):\n",
    "    def __init__(self, scikit_classifier_name, **classifier_args):\n",
    "        classifer_class = get_class(scikit_classifier_name)\n",
    "        self.clf = classifer_class(**classifier_args)\n",
    "\n",
    "def get_class(kls):\n",
    "    parts = kls.split('.')\n",
    "    module = \".\".join(parts[:-1])\n",
    "    md = __import__(module)\n",
    "    for comp in parts[1:]:\n",
    "        md = getattr(md, comp)\n",
    "    return md"
   ]
  },
  {
   "cell_type": "code",
   "execution_count": 27,
   "metadata": {},
   "outputs": [],
   "source": [
    "class Aggregator(object):\n",
    "    def __init__(self, domain_labels):\n",
    "        self.domain_labels = domain_labels  # list of labels in the domain\n",
    "\n",
    "    def aggregate(self, graph, node, conditional_node_to_label_map):\n",
    "        raise NotImplementedError\n",
    "\n",
    "class Count(Aggregator):\n",
    "    def aggregate(self, graph, node, conditional_node_to_label_map):\n",
    "        neighbor_undirected = []\n",
    "        for x in self.domain_labels:\n",
    "            neighbor_undirected.append(0.0)\n",
    "        for i in G.adj[node].keys():\n",
    "            if i in conditional_node_to_label_map.keys():\n",
    "                index = self.domain_labels.searchsorted(conditional_node_to_label_map[i])\n",
    "                print(i, conditional_node_to_label_map[i])\n",
    "                print(index) ############### FIXME\n",
    "                neighbor_undirected[index] += 1.0\n",
    "        return neighbor_undirected\n",
    "    \n",
    "def create_map(Y, train_indices):\n",
    "    conditional_map = {}\n",
    "    for i in train_indices:\n",
    "        conditional_map[i] = Y[i]\n",
    "    return conditional_map"
   ]
  },
  {
   "cell_type": "code",
   "execution_count": 33,
   "metadata": {},
   "outputs": [],
   "source": [
    "class RelationalClassifier(Classifier):\n",
    "    def __init__(self, scikit_classifier_name, aggregator, **classifier_args):\n",
    "        super(RelationalClassifier, self).__init__(scikit_classifier_name, **classifier_args)\n",
    "        self.aggregator = aggregator\n",
    "\n",
    "    def fit(self, graph, X, Y, train_indices, local_classifier, bootstrap):\n",
    "        conditional_map = {}\n",
    "\n",
    "        if bootstrap:\n",
    "            predictclf = local_classifier.predict(X)\n",
    "            conditional_map = self.cond_mp_upd(graph, conditional_map, predictclf, list(range(graph.number_of_nodes())))\n",
    "\n",
    "        for i in train_indices:\n",
    "            conditional_map[i] = Y.loc[i]\n",
    "        aggregates = []\n",
    "        for i in train_indices:\n",
    "            aggregates.append(sp.csr_matrix(self.aggregator.aggregate(graph, i, conditional_map), dtype=np.float64))\n",
    "        features = X.loc[train_indices]\n",
    "        labels = Y.loc[train_indices]\n",
    "        features = sp.csr_matrix(features, dtype=np.float64)\n",
    "        aggregates = sp.vstack(aggregates)\n",
    "        features = sp.hstack([features, aggregates])\n",
    "        #np.column_stack([X,a])\n",
    "        self.clf.fit(features, labels)\n",
    "\n",
    "    def predict(self, graph, X, Y, test_indices, conditional_map=None):\n",
    "        aggregates = []\n",
    "        for i in test_indices:\n",
    "            aggregates.append(sp.csr_matrix(self.aggregator.aggregate(graph, i, conditional_map), dtype=np.float64))\n",
    "        features = X.loc[test_indices]\n",
    "        features = sp.csr_matrix(features, dtype=np.float64)\n",
    "        aggregates = sp.vstack(aggregates)\n",
    "        features = sp.hstack([features, aggregates])\n",
    "\n",
    "        return self.clf.predict(features)\n",
    "\n",
    "    def cond_mp_upd(self, graph, conditional_map, pred, indices):\n",
    "        for x in range(len(pred)):\n",
    "            conditional_map[indices[x]] = pred[x]\n",
    "        return conditional_map"
   ]
  },
  {
   "cell_type": "code",
   "execution_count": 5,
   "metadata": {},
   "outputs": [],
   "source": [
    "class ICA(Classifier):\n",
    "    def __init__(self, local_classifier, relational_classifier, bootstrap, max_iteration=10):\n",
    "        self.local_classifier = local_classifier\n",
    "        self.relational_classifier = relational_classifier\n",
    "        self.bootstrap = bootstrap\n",
    "        self.max_iteration = max_iteration\n",
    "\n",
    "    def fit(self, graph, X, Y, train_indices):\n",
    "        self.local_classifier.fit(X.loc[train_indices], Y.loc[train_indices])\n",
    "        self.relational_classifier.fit(graph, X, Y, train_indices, self.local_classifier, self.bootstrap)\n",
    "\n",
    "    def predict(self, graph, X, Y, eval_indices, test_indices, conditional_node_to_label_map=None):\n",
    "        predictclf = self.local_classifier.predict(X.loc[eval_indices])\n",
    "        conditional_node_to_label_map = self.cond_mp_upd(graph,\n",
    "                                                         conditional_node_to_label_map,\n",
    "                                                         predictclf, eval_indices)\n",
    "\n",
    "        relation_predict = []\n",
    "        temp = []\n",
    "        for iter in range(self.max_iteration):\n",
    "            for x in eval_indices:\n",
    "                temp.append(x)\n",
    "                rltn_pred = list(self.relational_classifier.predict(graph, X, Y, temp, conditional_node_to_label_map))\n",
    "                conditional_node_to_label_map = self.cond_mp_upd(graph, conditional_node_to_label_map, rltn_pred, temp)\n",
    "                temp.remove(x)\n",
    "        for ti in test_indices:\n",
    "            relation_predict.append(conditional_node_to_label_map[ti])\n",
    "        return relation_predict\n",
    "\n",
    "    def cond_mp_upd(self, graph, conditional_map, pred, indices):\n",
    "        for x in range(len(pred)):\n",
    "            conditional_map[indices[x]] = pred[x]\n",
    "        return conditional_map"
   ]
  },
  {
   "cell_type": "markdown",
   "metadata": {},
   "source": [
    "# Test on synthetic dataset"
   ]
  },
  {
   "cell_type": "code",
   "execution_count": 6,
   "metadata": {},
   "outputs": [
    {
     "name": "stdout",
     "output_type": "stream",
     "text": [
      "[[-6.45255647 -8.76358259]\n",
      " [ 0.28982141  0.14677196]\n",
      " [-5.18412293 -1.25347025]\n",
      " ...\n",
      " [-0.23142814 -1.60800704]\n",
      " [-0.60291835  6.87297279]\n",
      " [ 2.28425964  4.87408773]]\n",
      "[1 1 0 1 0]\n"
     ]
    }
   ],
   "source": [
    "from sklearn.datasets import make_blobs\n",
    "X, Y = make_blobs(n_samples=1000, centers=20, random_state=123)\n",
    "labels = [0, 1]\n",
    "Y = np.take(labels, (Y < 10))\n",
    "print(X) \n",
    "print(Y[:5])"
   ]
  },
  {
   "cell_type": "code",
   "execution_count": 7,
   "metadata": {},
   "outputs": [
    {
     "data": {
      "image/png": "[encoded data removed]",
      "text/plain": [
       "<Figure size 432x288 with 1 Axes>"
      ]
     },
     "metadata": {
      "image/png": {
       "height": 252,
       "width": 398
      }
     },
     "output_type": "display_data"
    }
   ],
   "source": [
    "plt.figure()\n",
    "colors=['b','r']\n",
    "for label in labels:\n",
    "    mask = (Y == label)\n",
    "    plt.scatter(X[mask, 0], X[mask, 1], c=colors[label])\n",
    "plt.xlim(-10, 10)\n",
    "plt.ylim(-10, 10)\n",
    "plt.show()"
   ]
  },
  {
   "cell_type": "code",
   "execution_count": 8,
   "metadata": {},
   "outputs": [],
   "source": [
    "G = nx.gnm_random_graph(1000, 10000)\n",
    "#nx.draw(G, with_labels=False)"
   ]
  },
  {
   "cell_type": "raw",
   "metadata": {},
   "source": [
    "for i in G.adjacency():\n",
    "    print(i)\n",
    "    break"
   ]
  },
  {
   "cell_type": "code",
   "execution_count": 9,
   "metadata": {},
   "outputs": [],
   "source": [
    "def aggregateFittedValues(Y_hat, G, fun=np.mean, idx_update=None):\n",
    "    '''Returns an aggregation of the predicted labels in a 1-hop neighborhood of G'''\n",
    "    agg = np.empty((Y_hat.shape[0], fun(Y_hat[0]).shape[0]))\n",
    "    #agg = np.empty(Y_hat.shape[0])\n",
    "    for n,nbrs in G.adj.items():\n",
    "        if not idx_update:\n",
    "            agg[n] = fun(Y_hat[list(nbrs.keys())])\n",
    "        else:\n",
    "            if n in idx_update:\n",
    "                agg[n] = fun(Y_hat[list(nbrs.keys())])\n",
    "            else:\n",
    "                agg[n] = fun(Y_hat[n])\n",
    "                \n",
    "    return agg"
   ]
  },
  {
   "cell_type": "raw",
   "metadata": {},
   "source": [
    "max_iter = 10\n",
    "\n",
    "lclsf = LogisticRegression()\n",
    "lclsf.fit(X,Y)\n",
    "print(lclsf.C, lclsf.coef_)\n",
    "lclsf.predict_proba(X[0:2,:])[:,1]\n",
    "\n",
    "X_prime = X\n",
    "for i in range(max_iter):\n",
    "    lclsf.fit(X_prime, Y)\n",
    "    Y_pred = lclsf.predict(X_prime)\n",
    "    print(sklearn.metrics.accuracy_score(y_true=Y, y_pred=Y_pred))\n",
    "    Y_hat = lclsf.predict_proba(X_prime)[:,1]\n",
    "    a = aggregateFittedValues(Y_hat, G)\n",
    "    X_prime = np.column_stack([X,a])\n"
   ]
  },
  {
   "cell_type": "raw",
   "metadata": {},
   "source": [
    "print(lclsf.C, lclsf.coef_)"
   ]
  },
  {
   "cell_type": "markdown",
   "metadata": {},
   "source": [
    "# Reproduce results on Cora dataset"
   ]
  },
  {
   "cell_type": "code",
   "execution_count": 10,
   "metadata": {},
   "outputs": [],
   "source": [
    "# %load utils.py\n",
    "\"\"\"\" This implementation is largely based on and adapted from:\n",
    " https://github.com/sskhandle/Iterative-Classification \"\"\"\n",
    "import networkx as nx\n",
    "import pickle as pkl\n",
    "import numpy as np\n",
    "import scipy.sparse as sp\n",
    "import os.path\n",
    "\n",
    "def build_labels(labels):\n",
    "    domain_labels = []\n",
    "    for i in range(labels.shape[1]):\n",
    "        domain_labels.append(\"c\" + str(i))\n",
    "\n",
    "    return domain_labels\n",
    "\n",
    "def parse_index_file(filename):\n",
    "    \"\"\"Parse index file.\"\"\"\n",
    "    index = []\n",
    "    for line in open(filename):\n",
    "        index.append(int(line.strip()))\n",
    "    return index\n",
    "\n",
    "def load_data(dataset_str):\n",
    "    \"\"\"Load data.\"\"\"\n",
    "    names = ['x', 'y', 'tx', 'ty', 'allx', 'ally', 'graph']\n",
    "    objects = []\n",
    "    for i in range(len(names)):\n",
    "        objects.append(pkl.load(open(\"data/ind.{}.{}\".format(dataset_str, names[i]), 'rb'), encoding='latin1'))\n",
    "    x, y, tx, ty, allx, ally, graph = tuple(objects)\n",
    "    test_idx_reorder = parse_index_file(\"data/ind.{}.test.index\".format(dataset_str))\n",
    "    test_idx_range = np.sort(test_idx_reorder)\n",
    "\n",
    "    if dataset_str == 'citeseer':\n",
    "        # Fix citeseer dataset (there are some isolated nodes in the graph)\n",
    "        # Find isolated nodes, add them as zero-vecs into the right position\n",
    "        test_idx_range_full = list(range(min(test_idx_reorder), max(test_idx_reorder) + 1))\n",
    "        tx_extended = sp.lil_matrix((len(test_idx_range_full), x.shape[1]))\n",
    "        tx_extended[test_idx_range - min(test_idx_range), :] = tx\n",
    "        tx = tx_extended\n",
    "        ty_extended = np.zeros((len(test_idx_range_full), y.shape[1] - 1))\n",
    "        ty_extended_ = np.ones((len(test_idx_range_full), 1))  # add dummy labels\n",
    "        ty_extended = np.hstack([ty_extended, ty_extended_])\n",
    "        ty_extended[test_idx_range - min(test_idx_range), :] = ty\n",
    "        ty = ty_extended\n",
    "\n",
    "    features = sp.vstack((allx, tx)).tolil()\n",
    "    features[test_idx_reorder, :] = features[test_idx_range, :]\n",
    "    adj = nx.adjacency_matrix(nx.from_dict_of_lists(graph))\n",
    "\n",
    "    labels = np.vstack((ally, ty))\n",
    "    labels[test_idx_reorder, :] = labels[test_idx_range, :]\n",
    "\n",
    "    idx_test = test_idx_range.tolist()\n",
    "    idx_train = list(range(len(y)))\n",
    "    idx_val = list(range(len(y), len(y) + 500))\n",
    "\n",
    "    return adj, features, labels, idx_train, idx_val, idx_test\n"
   ]
  },
  {
   "cell_type": "code",
   "execution_count": 11,
   "metadata": {},
   "outputs": [
    {
     "data": {
      "text/plain": [
       "array(['c0', 'c1', 'c2', 'c3', 'c4', 'c5', 'c6'], dtype='<U2')"
      ]
     },
     "execution_count": 11,
     "metadata": {},
     "output_type": "execute_result"
    }
   ],
   "source": [
    "adj, features, labels, idx_train, idx_val, idx_test = load_data('cora')\n",
    "domain_labels = build_labels(labels)\n",
    "idx_eval = np.setdiff1d(list(range(adj.shape[0])), idx_train)\n",
    "domain_labels = np.array(domain_labels)\n",
    "domain_labels"
   ]
  },
  {
   "cell_type": "code",
   "execution_count": 12,
   "metadata": {},
   "outputs": [
    {
     "name": "stdout",
     "output_type": "stream",
     "text": [
      "140 500 1000\n",
      "(2708, 2708) 5278 (2708, 1433) 2708\n"
     ]
    }
   ],
   "source": [
    "print(len(idx_train), len(idx_val), len(idx_test))\n",
    "print(adj.shape, adj.nnz//2, features.shape, len(labels))"
   ]
  },
  {
   "cell_type": "code",
   "execution_count": 13,
   "metadata": {},
   "outputs": [
    {
     "data": {
      "text/plain": [
       "array([[0., 0., 0., ..., 0., 0., 0.],\n",
       "       [0., 0., 0., ..., 0., 0., 0.],\n",
       "       [0., 0., 0., ..., 0., 0., 0.],\n",
       "       ...,\n",
       "       [0., 0., 0., ..., 0., 0., 0.],\n",
       "       [0., 0., 0., ..., 0., 0., 0.],\n",
       "       [0., 0., 0., ..., 0., 0., 0.]], dtype=float32)"
      ]
     },
     "execution_count": 13,
     "metadata": {},
     "output_type": "execute_result"
    }
   ],
   "source": [
    "features.toarray()"
   ]
  },
  {
   "cell_type": "code",
   "execution_count": 14,
   "metadata": {},
   "outputs": [
    {
     "data": {
      "text/plain": [
       "array([False, False, False,  True, False, False, False])"
      ]
     },
     "execution_count": 14,
     "metadata": {},
     "output_type": "execute_result"
    }
   ],
   "source": [
    "labels[0]==1"
   ]
  },
  {
   "cell_type": "code",
   "execution_count": 15,
   "metadata": {},
   "outputs": [
    {
     "data": {
      "text/plain": [
       "2708"
      ]
     },
     "execution_count": 15,
     "metadata": {},
     "output_type": "execute_result"
    }
   ],
   "source": [
    "labels.shape[0]"
   ]
  },
  {
   "cell_type": "code",
   "execution_count": 16,
   "metadata": {},
   "outputs": [],
   "source": [
    "X = features.toarray()\n",
    "#Y = labels[:,3]\n",
    "Y = np.apply_along_axis(lambda x: domain_labels[x==1], 1, labels).ravel()\n",
    "G = nx.Graph(adj)"
   ]
  },
  {
   "cell_type": "code",
   "execution_count": 19,
   "metadata": {},
   "outputs": [
    {
     "name": "stdout",
     "output_type": "stream",
     "text": [
      "(2708, 1433) (2708,)\n"
     ]
    },
    {
     "data": {
      "text/plain": [
       "array([351, 217, 418, 818, 426, 298, 180])"
      ]
     },
     "execution_count": 19,
     "metadata": {},
     "output_type": "execute_result"
    }
   ],
   "source": [
    "print(X.shape, Y.shape)\n",
    "labels.sum(axis=0)"
   ]
  },
  {
   "cell_type": "code",
   "execution_count": 20,
   "metadata": {},
   "outputs": [
    {
     "data": {
      "text/plain": [
       "array([0., 0., 0., 0., 0., 0., 0.])"
      ]
     },
     "execution_count": 20,
     "metadata": {},
     "output_type": "execute_result"
    }
   ],
   "source": [
    "np.zeros_like(domain_labels, dtype='float')"
   ]
  },
  {
   "cell_type": "code",
   "execution_count": 21,
   "metadata": {},
   "outputs": [],
   "source": [
    "def count_aggregate(neighbors_labels, domain_labels):\n",
    "    result = np.zeros_like(domain_labels, dtype='float')\n",
    "    for lbl in np.nditer(neighbors_labels):\n",
    "        index = domain_labels.searchsorted(lbl)\n",
    "        result[index] += 1.0\n",
    "    return result"
   ]
  },
  {
   "cell_type": "code",
   "execution_count": 22,
   "metadata": {},
   "outputs": [
    {
     "name": "stdout",
     "output_type": "stream",
     "text": [
      "   0     1     2     3     4     5     6     7     8     9     ...   1423  \\\n",
      "0   0.0   0.0   0.0   0.0   0.0   0.0   0.0   0.0   0.0   0.0  ...    0.0   \n",
      "1   0.0   0.0   0.0   0.0   0.0   0.0   0.0   0.0   0.0   0.0  ...    0.0   \n",
      "2   0.0   0.0   0.0   0.0   0.0   0.0   0.0   0.0   0.0   0.0  ...    0.0   \n",
      "3   0.0   0.0   0.0   0.0   0.0   0.0   0.0   0.0   0.0   0.0  ...    0.0   \n",
      "4   0.0   0.0   0.0   1.0   0.0   0.0   0.0   0.0   0.0   0.0  ...    0.0   \n",
      "\n",
      "   1424  1425  1426  1427  1428  1429  1430  1431  1432  \n",
      "0   0.0   0.0   0.0   0.0   0.0   0.0   0.0   0.0   0.0  \n",
      "1   0.0   0.0   0.0   0.0   0.0   0.0   0.0   0.0   0.0  \n",
      "2   0.0   0.0   0.0   0.0   0.0   0.0   0.0   0.0   0.0  \n",
      "3   0.0   0.0   0.0   0.0   0.0   0.0   0.0   0.0   0.0  \n",
      "4   0.0   0.0   0.0   0.0   0.0   0.0   0.0   0.0   0.0  \n",
      "\n",
      "[5 rows x 1433 columns]     0\n",
      "0  c3\n",
      "1  c4\n",
      "2  c4\n",
      "3  c0\n",
      "4  c3\n"
     ]
    }
   ],
   "source": [
    "Xdf = pd.DataFrame(X)\n",
    "Ydf = pd.DataFrame(Y)\n",
    "print(Xdf.head(), Ydf.head())"
   ]
  },
  {
   "cell_type": "code",
   "execution_count": 23,
   "metadata": {},
   "outputs": [
    {
     "name": "stdout",
     "output_type": "stream",
     "text": [
      "1.0 (7, 1433)\n",
      "0.589\n",
      "0.587\n",
      "0.587\n",
      "0.587\n",
      "0.587\n",
      "0.587\n",
      "0.587\n",
      "0.587\n",
      "0.587\n",
      "0.587\n",
      "1.0 (7, 1440)\n"
     ]
    }
   ],
   "source": [
    "max_iter = 10\n",
    "\n",
    "lclsf = LogisticRegression()\n",
    "lclsf.fit(Xdf.loc[idx_train,:],Ydf.loc[idx_train].values.ravel())\n",
    "print(lclsf.C, lclsf.coef_.shape)\n",
    "#Y_pred = lclsf.predict(X[idx_test,:])\n",
    "#print(sklearn.metrics.accuracy_score(y_true=Y[idx_test], y_pred=Y_pred))\n",
    "\n",
    "X_prime = X\n",
    "for i in range(max_iter):\n",
    "    lclsf.fit(X_prime[idx_train,:], Y[idx_train])\n",
    "    Y_pred = lclsf.predict(X_prime)\n",
    "    print(sklearn.metrics.accuracy_score(y_true=Y[idx_test], y_pred=Y_pred[idx_test]))\n",
    "    Y_hat = lclsf.predict(X_prime) # bootstrap\n",
    "    Y_hat[idx_train] = Y[idx_train]\n",
    "    a = aggregateFittedValues(Y_hat, G, fun=lambda x: count_aggregate(x, domain_labels=domain_labels),\n",
    "                              idx_update=set(idx_train))\n",
    "    #Y_hat = lclsf.predict_proba(X_prime)\n",
    "    #a = aggregateFittedValues(Y_hat, G)\n",
    "    X_prime = np.column_stack([X,a])\n",
    "\n",
    "print(lclsf.C, lclsf.coef_.shape) "
   ]
  },
  {
   "cell_type": "code",
   "execution_count": 24,
   "metadata": {},
   "outputs": [
    {
     "data": {
      "text/plain": [
       "{476, 2545}"
      ]
     },
     "execution_count": 24,
     "metadata": {},
     "output_type": "execute_result"
    }
   ],
   "source": [
    "set(G.adj[10].keys())"
   ]
  },
  {
   "cell_type": "code",
   "execution_count": 25,
   "metadata": {},
   "outputs": [
    {
     "name": "stdout",
     "output_type": "stream",
     "text": [
      "c0\n",
      "0\n",
      "c5\n",
      "5\n"
     ]
    },
    {
     "data": {
      "text/plain": [
       "[1.0, 0.0, 0.0, 0.0, 0.0, 1.0, 0.0]"
      ]
     },
     "execution_count": 25,
     "metadata": {},
     "output_type": "execute_result"
    }
   ],
   "source": [
    "c = Count(domain_labels)\n",
    "c.aggregate(G, 10, {476:'c0', 2545:'c5'})"
   ]
  },
  {
   "cell_type": "markdown",
   "metadata": {},
   "source": [
    "# Main"
   ]
  },
  {
   "cell_type": "code",
   "execution_count": 34,
   "metadata": {},
   "outputs": [
    {
     "name": "stdout",
     "output_type": "stream",
     "text": [
      "633 c3\n",
      "3\n",
      "1862 c3\n",
      "3\n",
      "2582 c6\n",
      "6\n",
      "2 0    c4\n",
      "Name: 2, dtype: object\n",
      "[4]\n"
     ]
    },
    {
     "ename": "TypeError",
     "evalue": "only integer scalar arrays can be converted to a scalar index",
     "output_type": "error",
     "traceback": [
      "\u001b[0;31m---------------------------------------------------------------------------\u001b[0m",
      "\u001b[0;31mTypeError\u001b[0m                                 Traceback (most recent call last)",
      "\u001b[0;32m<ipython-input-34-800e55f9a5cf>\u001b[0m in \u001b[0;36m<module>\u001b[0;34m()\u001b[0m\n\u001b[1;32m      3\u001b[0m \u001b[0mlocclsf\u001b[0m\u001b[0;34m.\u001b[0m\u001b[0mfit\u001b[0m\u001b[0;34m(\u001b[0m\u001b[0mXdf\u001b[0m\u001b[0;34m.\u001b[0m\u001b[0mloc\u001b[0m\u001b[0;34m[\u001b[0m\u001b[0midx_train\u001b[0m\u001b[0;34m]\u001b[0m\u001b[0;34m,\u001b[0m \u001b[0mYdf\u001b[0m\u001b[0;34m.\u001b[0m\u001b[0mloc\u001b[0m\u001b[0;34m[\u001b[0m\u001b[0midx_train\u001b[0m\u001b[0;34m]\u001b[0m\u001b[0;34m.\u001b[0m\u001b[0mvalues\u001b[0m\u001b[0;34m.\u001b[0m\u001b[0mravel\u001b[0m\u001b[0;34m(\u001b[0m\u001b[0;34m)\u001b[0m\u001b[0;34m)\u001b[0m\u001b[0;34m\u001b[0m\u001b[0m\n\u001b[1;32m      4\u001b[0m \u001b[0mrelclsf\u001b[0m \u001b[0;34m=\u001b[0m \u001b[0mRelationalClassifier\u001b[0m\u001b[0;34m(\u001b[0m\u001b[0;34m'sklearn.linear_model.LogisticRegression'\u001b[0m\u001b[0;34m,\u001b[0m \u001b[0mCount\u001b[0m\u001b[0;34m(\u001b[0m\u001b[0mdomain_labels\u001b[0m\u001b[0;34m)\u001b[0m\u001b[0;34m)\u001b[0m\u001b[0;34m\u001b[0m\u001b[0m\n\u001b[0;32m----> 5\u001b[0;31m \u001b[0mrelclsf\u001b[0m\u001b[0;34m.\u001b[0m\u001b[0mfit\u001b[0m\u001b[0;34m(\u001b[0m\u001b[0mG\u001b[0m\u001b[0;34m,\u001b[0m \u001b[0mXdf\u001b[0m\u001b[0;34m,\u001b[0m \u001b[0mYdf\u001b[0m\u001b[0;34m,\u001b[0m \u001b[0midx_train\u001b[0m\u001b[0;34m,\u001b[0m \u001b[0mlocclsf\u001b[0m\u001b[0;34m,\u001b[0m \u001b[0mbootstrap\u001b[0m\u001b[0;34m=\u001b[0m\u001b[0;32mTrue\u001b[0m\u001b[0;34m)\u001b[0m\u001b[0;34m\u001b[0m\u001b[0m\n\u001b[0m\u001b[1;32m      6\u001b[0m \u001b[0mrel_pred\u001b[0m \u001b[0;34m=\u001b[0m \u001b[0mrelclsf\u001b[0m\u001b[0;34m.\u001b[0m\u001b[0mpredict\u001b[0m\u001b[0;34m(\u001b[0m\u001b[0mG\u001b[0m\u001b[0;34m,\u001b[0m \u001b[0mXdf\u001b[0m\u001b[0;34m,\u001b[0m \u001b[0mYdf\u001b[0m\u001b[0;34m,\u001b[0m \u001b[0midx_test\u001b[0m\u001b[0;34m,\u001b[0m \u001b[0mcmap\u001b[0m\u001b[0;34m)\u001b[0m\u001b[0;34m\u001b[0m\u001b[0m\n\u001b[1;32m      7\u001b[0m \u001b[0maccuracy_score\u001b[0m\u001b[0;34m(\u001b[0m\u001b[0my_true\u001b[0m\u001b[0;34m=\u001b[0m\u001b[0mY\u001b[0m\u001b[0;34m[\u001b[0m\u001b[0midx_test\u001b[0m\u001b[0;34m]\u001b[0m\u001b[0;34m,\u001b[0m \u001b[0my_pred\u001b[0m\u001b[0;34m=\u001b[0m\u001b[0mrel_pred\u001b[0m\u001b[0;34m)\u001b[0m\u001b[0;34m\u001b[0m\u001b[0m\n",
      "\u001b[0;32m<ipython-input-33-df05865f5a33>\u001b[0m in \u001b[0;36mfit\u001b[0;34m(self, graph, X, Y, train_indices, local_classifier, bootstrap)\u001b[0m\n\u001b[1;32m     15\u001b[0m         \u001b[0maggregates\u001b[0m \u001b[0;34m=\u001b[0m \u001b[0;34m[\u001b[0m\u001b[0;34m]\u001b[0m\u001b[0;34m\u001b[0m\u001b[0m\n\u001b[1;32m     16\u001b[0m         \u001b[0;32mfor\u001b[0m \u001b[0mi\u001b[0m \u001b[0;32min\u001b[0m \u001b[0mtrain_indices\u001b[0m\u001b[0;34m:\u001b[0m\u001b[0;34m\u001b[0m\u001b[0m\n\u001b[0;32m---> 17\u001b[0;31m             \u001b[0maggregates\u001b[0m\u001b[0;34m.\u001b[0m\u001b[0mappend\u001b[0m\u001b[0;34m(\u001b[0m\u001b[0msp\u001b[0m\u001b[0;34m.\u001b[0m\u001b[0mcsr_matrix\u001b[0m\u001b[0;34m(\u001b[0m\u001b[0mself\u001b[0m\u001b[0;34m.\u001b[0m\u001b[0maggregator\u001b[0m\u001b[0;34m.\u001b[0m\u001b[0maggregate\u001b[0m\u001b[0;34m(\u001b[0m\u001b[0mgraph\u001b[0m\u001b[0;34m,\u001b[0m \u001b[0mi\u001b[0m\u001b[0;34m,\u001b[0m \u001b[0mconditional_map\u001b[0m\u001b[0;34m)\u001b[0m\u001b[0;34m,\u001b[0m \u001b[0mdtype\u001b[0m\u001b[0;34m=\u001b[0m\u001b[0mnp\u001b[0m\u001b[0;34m.\u001b[0m\u001b[0mfloat64\u001b[0m\u001b[0;34m)\u001b[0m\u001b[0;34m)\u001b[0m\u001b[0;34m\u001b[0m\u001b[0m\n\u001b[0m\u001b[1;32m     18\u001b[0m         \u001b[0mfeatures\u001b[0m \u001b[0;34m=\u001b[0m \u001b[0mX\u001b[0m\u001b[0;34m.\u001b[0m\u001b[0mloc\u001b[0m\u001b[0;34m[\u001b[0m\u001b[0mtrain_indices\u001b[0m\u001b[0;34m]\u001b[0m\u001b[0;34m\u001b[0m\u001b[0m\n\u001b[1;32m     19\u001b[0m         \u001b[0mlabels\u001b[0m \u001b[0;34m=\u001b[0m \u001b[0mY\u001b[0m\u001b[0;34m.\u001b[0m\u001b[0mloc\u001b[0m\u001b[0;34m[\u001b[0m\u001b[0mtrain_indices\u001b[0m\u001b[0;34m]\u001b[0m\u001b[0;34m\u001b[0m\u001b[0m\n",
      "\u001b[0;32m<ipython-input-27-b798c2845ff9>\u001b[0m in \u001b[0;36maggregate\u001b[0;34m(self, graph, node, conditional_node_to_label_map)\u001b[0m\n\u001b[1;32m     17\u001b[0m                 \u001b[0mprint\u001b[0m\u001b[0;34m(\u001b[0m\u001b[0mi\u001b[0m\u001b[0;34m,\u001b[0m \u001b[0mconditional_node_to_label_map\u001b[0m\u001b[0;34m[\u001b[0m\u001b[0mi\u001b[0m\u001b[0;34m]\u001b[0m\u001b[0;34m)\u001b[0m\u001b[0;34m\u001b[0m\u001b[0m\n\u001b[1;32m     18\u001b[0m                 \u001b[0mprint\u001b[0m\u001b[0;34m(\u001b[0m\u001b[0mindex\u001b[0m\u001b[0;34m)\u001b[0m \u001b[0;31m############### FIXME\u001b[0m\u001b[0;34m\u001b[0m\u001b[0m\n\u001b[0;32m---> 19\u001b[0;31m                 \u001b[0mneighbor_undirected\u001b[0m\u001b[0;34m[\u001b[0m\u001b[0mindex\u001b[0m\u001b[0;34m]\u001b[0m \u001b[0;34m+=\u001b[0m \u001b[0;36m1.0\u001b[0m\u001b[0;34m\u001b[0m\u001b[0m\n\u001b[0m\u001b[1;32m     20\u001b[0m         \u001b[0;32mreturn\u001b[0m \u001b[0mneighbor_undirected\u001b[0m\u001b[0;34m\u001b[0m\u001b[0m\n\u001b[1;32m     21\u001b[0m \u001b[0;34m\u001b[0m\u001b[0m\n",
      "\u001b[0;31mTypeError\u001b[0m: only integer scalar arrays can be converted to a scalar index"
     ]
    }
   ],
   "source": [
    "cmap = create_map(Y, idx_train)\n",
    "locclsf = LogisticRegression()\n",
    "locclsf.fit(Xdf.loc[idx_train], Ydf.loc[idx_train].values.ravel())\n",
    "relclsf = RelationalClassifier('sklearn.linear_model.LogisticRegression', Count(domain_labels))\n",
    "relclsf.fit(G, Xdf, Ydf, idx_train, locclsf, bootstrap=True)\n",
    "rel_pred = relclsf.predict(G, Xdf, Ydf, idx_test, cmap)\n",
    "accuracy_score(y_true=Y[idx_test], y_pred=rel_pred)"
   ]
  },
  {
   "cell_type": "code",
   "execution_count": null,
   "metadata": {},
   "outputs": [],
   "source": []
  },
  {
   "cell_type": "code",
   "execution_count": null,
   "metadata": {},
   "outputs": [],
   "source": [
    "ica = ICA(locclsf, relclsf, bootstrap=True)\n",
    "ica.fit(G, Xdf, Ydf, idx_train)\n",
    "cmap = create_map(Ydf, idx_train)\n",
    "ica_predict = ica.predict(G, Xdf, Ydf, idx_eval, idx_test, cmap)\n"
   ]
  },
  {
   "cell_type": "code",
   "execution_count": null,
   "metadata": {},
   "outputs": [],
   "source": [
    "ica_accuracy = accuracy_score(Ydf.loc[idx_test], ica_predict)\n",
    "ica_accuracy"
   ]
  },
  {
   "cell_type": "code",
   "execution_count": null,
   "metadata": {},
   "outputs": [],
   "source": [
    "pd.DataFrame(np.matrix(relclsf.clf.coef_[:,1433:1440]))"
   ]
  },
  {
   "cell_type": "code",
   "execution_count": null,
   "metadata": {},
   "outputs": [],
   "source": [
    "cmap = create_map(Ydf, idx_test)\n",
    "locclsf = LogisticRegression()\n",
    "locclsf.fit(X[idx_test], Ydf.loc[idx_test])\n",
    "accuracy_score(y_true=Ydf.loc[idx_train], y_pred=locclsf.predict(Xdf.loc[idx_train]))"
   ]
  },
  {
   "cell_type": "code",
   "execution_count": null,
   "metadata": {},
   "outputs": [],
   "source": [
    "relclsf = RelationalClassifier('sklearn.linear_model.LogisticRegression', Count(domain_labels))\n",
    "relclsf.fit(G, Xdf, Ydf, idx_test, locclsf, bootstrap=True)\n",
    "rel_pred = relclsf.predict(G, Xdf, Ydf, idx_train, cmap)\n",
    "accuracy_score(y_true=Ydf.loc[idx_train], y_pred=rel_pred)"
   ]
  }
 ],
 "metadata": {
  "kernelspec": {
   "display_name": "Python 3",
   "language": "python",
   "name": "python3"
  },
  "language_info": {
   "codemirror_mode": {
    "name": "ipython",
    "version": 3
   },
   "file_extension": ".py",
   "mimetype": "text/x-python",
   "name": "python",
   "nbconvert_exporter": "python",
   "pygments_lexer": "ipython3",
   "version": "3.7.0"
  }
 },
 "nbformat": 4,
 "nbformat_minor": 2
}
